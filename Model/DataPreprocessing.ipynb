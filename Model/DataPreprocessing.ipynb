{
 "cells": [
  {
   "cell_type": "markdown",
   "id": "401f20b5-0474-4979-871b-f02aa78e05b8",
   "metadata": {},
   "source": [
    "## 資料夾結構\n",
    "Dataset/train\n",
    "\n",
    "Dataset/public_test\n",
    "\n",
    "Dataset/augment/{某個方法}/train\n",
    "\n",
    "Dataset/augment/{某個方法}/public_test\n",
    "\n",
    "---\n",
    "\n",
    "- origin\n",
    "- 0.9\n",
    "- 1.1\n",
    "- +noise"
   ]
  },
  {
   "cell_type": "code",
   "execution_count": 21,
   "id": "0012fcd0-b9b1-4678-af7f-47b53f48e33b",
   "metadata": {},
   "outputs": [],
   "source": [
    "from IPython.display import Audio, display\n",
    "import random\n",
    "from pathlib import Path\n",
    "import pandas as pd\n",
    "import numpy as np\n",
    "from tqdm import tqdm\n",
    "\n",
    "import torch\n",
    "import torchaudio\n",
    "from audiomentations import Compose, AddGaussianNoise, TimeStretch, PitchShift, Shift, Resample\n",
    "\n",
    "DATA_PATH = Path('Dataset')\n",
    "\n",
    "# train & public test\n",
    "merged_path = [f\"train/train_{i:05d}\" for i in range(1,1201)] +[f\"public_test/public_{i:05d}\" for i in range(1,10001)]"
   ]
  },
  {
   "cell_type": "code",
   "execution_count": 22,
   "id": "51f22e43-22ae-42e5-82dc-8d6d1d31316e",
   "metadata": {},
   "outputs": [],
   "source": [
    "(DATA_PATH/f'augmented/0.9/train').mkdir(parents=True, exist_ok=True)\n",
    "(DATA_PATH/f'augmented/1.1/train').mkdir(parents=True, exist_ok=True)\n",
    "(DATA_PATH/f'augmented/noise/train').mkdir(parents=True, exist_ok=True)\n",
    "\n",
    "(DATA_PATH/f'augmented/0.9/public_test').mkdir(parents=True, exist_ok=True)\n",
    "(DATA_PATH/f'augmented/1.1/public_test').mkdir(parents=True, exist_ok=True)\n",
    "(DATA_PATH/f'augmented/noise/public_test').mkdir(parents=True, exist_ok=True)"
   ]
  },
  {
   "cell_type": "markdown",
   "id": "3b74bb67-2bd3-4427-9170-c06d85823e0d",
   "metadata": {},
   "source": [
    "## Speed perturbation + Time Shift"
   ]
  },
  {
   "cell_type": "code",
   "execution_count": 23,
   "id": "146879ac-1ee9-4f54-87fa-0b11abb161a5",
   "metadata": {},
   "outputs": [
    {
     "name": "stderr",
     "output_type": "stream",
     "text": [
      "100%|██████████| 11200/11200 [03:13<00:00, 57.86it/s]\n",
      "100%|██████████| 11200/11200 [02:49<00:00, 66.05it/s]\n"
     ]
    }
   ],
   "source": [
    "augment = Compose([\n",
    "    TimeStretch(min_rate=0.8, max_rate=1, p=1),\n",
    "    Shift(min_fraction=1, max_fraction=1,rollover=True, p=0.5)\n",
    "])\n",
    "\n",
    "for f in tqdm(merged_path):\n",
    "    waveform, sr = torchaudio.load(DATA_PATH/f\"{f}.wav\")\n",
    "    \n",
    "    augmented_sample = augment(samples=waveform.numpy(), sample_rate=sr)\n",
    "    \n",
    "    torchaudio.save(DATA_PATH/f'augmented/0.9/{f}.wav', \n",
    "                    torch.tensor(augmented_sample),\n",
    "                    sample_rate=sr)\n",
    "    \n",
    "augment = Compose([\n",
    "    TimeStretch(min_rate=1, max_rate=1.2, p=1),\n",
    "    Shift(min_fraction=1, max_fraction=1,rollover=True, p=0.5)\n",
    "])\n",
    "for f in tqdm(merged_path):\n",
    "    waveform, sr = torchaudio.load(DATA_PATH/f\"{f}.wav\")\n",
    "    \n",
    "    augmented_sample = augment(samples=waveform.numpy(), sample_rate=sr)\n",
    "    \n",
    "    torchaudio.save(DATA_PATH/f'augmented/1.1/{f}.wav', \n",
    "                    torch.tensor(augmented_sample),\n",
    "                    sample_rate=sr)"
   ]
  },
  {
   "cell_type": "markdown",
   "id": "a4a867fc-767d-4264-8e17-09a9800a7f70",
   "metadata": {},
   "source": [
    "## + Musan Noise"
   ]
  },
  {
   "cell_type": "code",
   "execution_count": 24,
   "id": "6d0f829c-7e29-4c1e-b77b-847bdc25b9f0",
   "metadata": {},
   "outputs": [
    {
     "data": {
      "text/plain": [
       "([PosixPath('Dataset/musan/noise/sound-bible/noise-sound-bible-0000.wav'),\n",
       "  PosixPath('Dataset/musan/noise/sound-bible/noise-sound-bible-0001.wav'),\n",
       "  PosixPath('Dataset/musan/noise/sound-bible/noise-sound-bible-0002.wav'),\n",
       "  PosixPath('Dataset/musan/noise/sound-bible/noise-sound-bible-0003.wav'),\n",
       "  PosixPath('Dataset/musan/noise/sound-bible/noise-sound-bible-0004.wav')],\n",
       " 87)"
      ]
     },
     "execution_count": 24,
     "metadata": {},
     "output_type": "execute_result"
    }
   ],
   "source": [
    "musan_path = Path(\"Dataset/musan\")\n",
    "noise_files = sorted(list((musan_path/\"noise/sound-bible\").glob(\"*.wav\")))\n",
    "noise_files[:5], len(noise_files)"
   ]
  },
  {
   "cell_type": "code",
   "execution_count": 26,
   "id": "e39c2ad3-2237-4841-a7db-3fd5d7bc3608",
   "metadata": {},
   "outputs": [
    {
     "name": "stderr",
     "output_type": "stream",
     "text": [
      "100%|██████████| 11200/11200 [05:51<00:00, 31.88it/s]\n"
     ]
    }
   ],
   "source": [
    "augment = Compose([\n",
    "    Shift(min_fraction=-1, max_fraction=1,rollover=True, p=0.5)\n",
    "])\n",
    "\n",
    "N_noise = 5\n",
    "for f in tqdm(merged_path):\n",
    "    for i in range(N_noise):\n",
    "        wav, sr = torchaudio.load(DATA_PATH/f\"{f}.wav\")\n",
    "\n",
    "        flag = True\n",
    "        while flag:\n",
    "            noise_f = random.choice(noise_files)\n",
    "            noise_wav, noise_sr = torchaudio.load(noise_f)\n",
    "            if noise_wav.shape[1] >= 80000:\n",
    "                flag = False\n",
    "            noise_wav = augment(noise_wav.numpy(), sample_rate=noise_sr)\n",
    "\n",
    "        wav = torchaudio.transforms.Resample(orig_freq=sr, new_freq=noise_sr)(wav)\n",
    "        if wav.shape[1] != 80000:\n",
    "            wav = torch.cat([wav, torch.zeros([1, 80000-wav.shape[1]])], dim=1)\n",
    "        wav = augment(wav.numpy(), sample_rate=noise_sr)\n",
    "        \n",
    "        alpha = random.random()*0.3 + 0.1\n",
    "        new_wav = (wav + noise_wav[:,:80000]*alpha)/(1+alpha)\n",
    "        torchaudio.save(DATA_PATH/f'augmented/noise/{f}_{i}.wav', \n",
    "                        torch.tensor(new_wav),\n",
    "                        sample_rate=noise_sr)"
   ]
  },
  {
   "cell_type": "code",
   "execution_count": null,
   "id": "a7465e96-1562-43ad-861e-c1c03ede207b",
   "metadata": {},
   "outputs": [],
   "source": []
  }
 ],
 "metadata": {
  "kernelspec": {
   "display_name": "Python 3",
   "language": "python",
   "name": "python3"
  },
  "language_info": {
   "codemirror_mode": {
    "name": "ipython",
    "version": 3
   },
   "file_extension": ".py",
   "mimetype": "text/x-python",
   "name": "python",
   "nbconvert_exporter": "python",
   "pygments_lexer": "ipython3",
   "version": "3.8.5"
  }
 },
 "nbformat": 4,
 "nbformat_minor": 5
}
